{
  "nbformat": 4,
  "nbformat_minor": 0,
  "metadata": {
    "colab": {
      "provenance": [],
      "authorship_tag": "ABX9TyNa3e2F1Oq0TivThVtt7uxy",
      "include_colab_link": true
    },
    "kernelspec": {
      "name": "python3",
      "display_name": "Python 3"
    },
    "language_info": {
      "name": "python"
    }
  },
  "cells": [
    {
      "cell_type": "markdown",
      "metadata": {
        "id": "view-in-github",
        "colab_type": "text"
      },
      "source": [
        "<a href=\"https://colab.research.google.com/github/Faizal897/MyProject/blob/main/Try_Portofolio_Project.ipynb\" target=\"_parent\"><img src=\"https://colab.research.google.com/assets/colab-badge.svg\" alt=\"Open In Colab\"/></a>"
      ]
    },
    {
      "cell_type": "code",
      "execution_count": null,
      "metadata": {
        "colab": {
          "base_uri": "https://localhost:8080/"
        },
        "id": "F-MKHD8DWJxL",
        "outputId": "819f57b1-5369-4b16-e57d-c4813d8219d2"
      },
      "outputs": [
        {
          "output_type": "stream",
          "name": "stdout",
          "text": [
            "hello world\n"
          ]
        }
      ],
      "source": [
        "print('hello world')"
      ]
    },
    {
      "cell_type": "code",
      "source": [
        "x = 2.9\n",
        "y = 5\n",
        "print(x+y)\n",
        "\n",
        "type(x)"
      ],
      "metadata": {
        "colab": {
          "base_uri": "https://localhost:8080/"
        },
        "id": "VkBx5ntNZgWx",
        "outputId": "e4481a4f-1e88-41cc-b991-58e92775a4ae"
      },
      "execution_count": null,
      "outputs": [
        {
          "output_type": "stream",
          "name": "stdout",
          "text": [
            "7.9\n"
          ]
        },
        {
          "output_type": "execute_result",
          "data": {
            "text/plain": [
              "float"
            ]
          },
          "metadata": {},
          "execution_count": 18
        }
      ]
    },
    {
      "cell_type": "code",
      "source": [
        "#list\n",
        "\n",
        "makanan = ['Garam', ['cuka', 'kacang', 'keledai'], 'gula', 'msg']\n",
        "makanan.append('mesiu')\n",
        "\n",
        "print(makanan)"
      ],
      "metadata": {
        "colab": {
          "base_uri": "https://localhost:8080/"
        },
        "id": "j6orlzukZkuR",
        "outputId": "81e2b566-f9c6-41b5-8ba7-c813994d3c73"
      },
      "execution_count": null,
      "outputs": [
        {
          "output_type": "stream",
          "name": "stdout",
          "text": [
            "['Garam', ['cuka', 'kacang', 'keledai'], 'gula', 'msg', 'mesiu']\n"
          ]
        }
      ]
    },
    {
      "cell_type": "code",
      "source": [
        "makanan[0]"
      ],
      "metadata": {
        "colab": {
          "base_uri": "https://localhost:8080/",
          "height": 36
        },
        "id": "cPjjmH3TcYFL",
        "outputId": "fbc57d60-2188-4dee-b14c-f81e4dc5d343"
      },
      "execution_count": null,
      "outputs": [
        {
          "output_type": "execute_result",
          "data": {
            "text/plain": [
              "'Garam'"
            ],
            "application/vnd.google.colaboratory.intrinsic+json": {
              "type": "string"
            }
          },
          "metadata": {},
          "execution_count": 27
        }
      ]
    },
    {
      "cell_type": "code",
      "source": [
        "makanan[1][0]"
      ],
      "metadata": {
        "colab": {
          "base_uri": "https://localhost:8080/",
          "height": 36
        },
        "id": "KuGXmhJAcd5C",
        "outputId": "8a2c942d-0843-47d2-c129-0a22895f3162"
      },
      "execution_count": null,
      "outputs": [
        {
          "output_type": "execute_result",
          "data": {
            "text/plain": [
              "'cuka'"
            ],
            "application/vnd.google.colaboratory.intrinsic+json": {
              "type": "string"
            }
          },
          "metadata": {},
          "execution_count": 31
        }
      ]
    },
    {
      "cell_type": "code",
      "source": [
        "#tuple\n",
        "\n",
        "tuple_jajanan = ('chiki', 'micin', 'coklat')\n",
        "print(tuple_jajanan)\n"
      ],
      "metadata": {
        "colab": {
          "base_uri": "https://localhost:8080/"
        },
        "id": "HFKviYbPc2-j",
        "outputId": "a33bf213-6e0b-4550-cc79-5d318e3c004b"
      },
      "execution_count": null,
      "outputs": [
        {
          "output_type": "stream",
          "name": "stdout",
          "text": [
            "('chiki', 'micin', 'coklat')\n"
          ]
        }
      ]
    },
    {
      "cell_type": "code",
      "source": [
        "type(tuple_jajanan)"
      ],
      "metadata": {
        "colab": {
          "base_uri": "https://localhost:8080/"
        },
        "id": "3ieHdCYWdjK5",
        "outputId": "162ec282-378c-4083-896b-1977f3cd4ec2"
      },
      "execution_count": null,
      "outputs": [
        {
          "output_type": "execute_result",
          "data": {
            "text/plain": [
              "tuple"
            ]
          },
          "metadata": {},
          "execution_count": 33
        }
      ]
    },
    {
      "cell_type": "code",
      "source": [
        "tuple_jajanan[2]"
      ],
      "metadata": {
        "colab": {
          "base_uri": "https://localhost:8080/",
          "height": 36
        },
        "id": "C4Ia-la7dmZP",
        "outputId": "3b685f70-b89d-4524-f0b2-f8c2a4a9704c"
      },
      "execution_count": null,
      "outputs": [
        {
          "output_type": "execute_result",
          "data": {
            "text/plain": [
              "'coklat'"
            ],
            "application/vnd.google.colaboratory.intrinsic+json": {
              "type": "string"
            }
          },
          "metadata": {},
          "execution_count": 35
        }
      ]
    },
    {
      "cell_type": "code",
      "source": [
        "tuple_jajanan.append[1]"
      ],
      "metadata": {
        "colab": {
          "base_uri": "https://localhost:8080/",
          "height": 141
        },
        "id": "DJlRIVOZdqwH",
        "outputId": "e4661ea7-540f-42e7-d764-619f211b43a9"
      },
      "execution_count": null,
      "outputs": [
        {
          "output_type": "error",
          "ename": "AttributeError",
          "evalue": "'tuple' object has no attribute 'append'",
          "traceback": [
            "\u001b[0;31m---------------------------------------------------------------------------\u001b[0m",
            "\u001b[0;31mAttributeError\u001b[0m                            Traceback (most recent call last)",
            "\u001b[0;32m<ipython-input-36-5634b8b6e281>\u001b[0m in \u001b[0;36m<cell line: 1>\u001b[0;34m()\u001b[0m\n\u001b[0;32m----> 1\u001b[0;31m \u001b[0mtuple_jajanan\u001b[0m\u001b[0;34m.\u001b[0m\u001b[0mappend\u001b[0m\u001b[0;34m[\u001b[0m\u001b[0;36m1\u001b[0m\u001b[0;34m]\u001b[0m\u001b[0;34m\u001b[0m\u001b[0;34m\u001b[0m\u001b[0m\n\u001b[0m",
            "\u001b[0;31mAttributeError\u001b[0m: 'tuple' object has no attribute 'append'"
          ]
        }
      ]
    },
    {
      "cell_type": "markdown",
      "source": [],
      "metadata": {
        "id": "-1s-TZIGfHIe"
      }
    },
    {
      "cell_type": "code",
      "source": [
        "# sets\n",
        "\n",
        "kedatangan = {3,2,5,1,7,5,5,12,7,2,1,3,3,2}\n",
        "print(kedatangan)"
      ],
      "metadata": {
        "colab": {
          "base_uri": "https://localhost:8080/"
        },
        "id": "n66tetC9d3Ly",
        "outputId": "0d868160-017c-4e51-94f3-1a4105bce44d"
      },
      "execution_count": null,
      "outputs": [
        {
          "output_type": "stream",
          "name": "stdout",
          "text": [
            "{1, 2, 3, 5, 7, 12}\n"
          ]
        }
      ]
    },
    {
      "cell_type": "code",
      "source": [
        "# sets\n",
        "\n",
        "kedatangan = {3,2,5,1,7,5,5,12,7,2,1,3,3,2,10,16,34,12}\n",
        "type(kedatangan)"
      ],
      "metadata": {
        "colab": {
          "base_uri": "https://localhost:8080/"
        },
        "id": "XOK-W3RNfIiL",
        "outputId": "d22b97b8-d294-4d42-fcbc-d954a22bac25"
      },
      "execution_count": null,
      "outputs": [
        {
          "output_type": "execute_result",
          "data": {
            "text/plain": [
              "set"
            ]
          },
          "metadata": {},
          "execution_count": 55
        }
      ]
    },
    {
      "cell_type": "code",
      "source": [
        "kedatangan_log = {3,2,5,1,7,5,5,12,7,2,1,3,3,2,10,16,34,12}\n",
        "print(kedatangan)"
      ],
      "metadata": {
        "colab": {
          "base_uri": "https://localhost:8080/"
        },
        "id": "zE55bYc1dyOb",
        "outputId": "d77ae2d5-30f4-4055-9dda-39fb15581aba"
      },
      "execution_count": null,
      "outputs": [
        {
          "output_type": "stream",
          "name": "stdout",
          "text": [
            "{1, 2, 3, 34, 5, 7, 10, 12, 16}\n"
          ]
        }
      ]
    },
    {
      "cell_type": "code",
      "source": [
        "keberangkatan_log = {2,5,7,3,10,11,4,1,6,4,5,8,9,7,3,6,7,3}\n",
        "print(keberangkatan_log)"
      ],
      "metadata": {
        "colab": {
          "base_uri": "https://localhost:8080/"
        },
        "id": "_qu7qDpAe0hW",
        "outputId": "70e2e5a7-d240-465d-bb17-1f1343533071"
      },
      "execution_count": null,
      "outputs": [
        {
          "output_type": "stream",
          "name": "stdout",
          "text": [
            "{1, 2, 3, 4, 5, 6, 7, 8, 9}\n"
          ]
        }
      ]
    },
    {
      "cell_type": "markdown",
      "source": [],
      "metadata": {
        "id": "REVZnZIqgHOF"
      }
    },
    {
      "cell_type": "code",
      "source": [
        "print(kedatangan - keberangkatan_log)"
      ],
      "metadata": {
        "colab": {
          "base_uri": "https://localhost:8080/"
        },
        "id": "T7NpREuAfXSX",
        "outputId": "cae09fb0-39fd-4c2f-cc0d-9f962347bf39"
      },
      "execution_count": null,
      "outputs": [
        {
          "output_type": "stream",
          "name": "stdout",
          "text": [
            "{16, 34, 10, 12}\n"
          ]
        }
      ]
    },
    {
      "cell_type": "code",
      "source": [
        "print(kedatangan | keberangkatan_log)"
      ],
      "metadata": {
        "colab": {
          "base_uri": "https://localhost:8080/"
        },
        "id": "QrvuCyYjfhsC",
        "outputId": "c8b1c313-9f35-4dd3-9c1b-8e1a2d29038c"
      },
      "execution_count": null,
      "outputs": [
        {
          "output_type": "stream",
          "name": "stdout",
          "text": [
            "{1, 2, 3, 34, 5, 4, 7, 6, 8, 10, 9, 12, 16}\n"
          ]
        }
      ]
    },
    {
      "cell_type": "code",
      "source": [
        "print(kedatangan & keberangkatan_log)"
      ],
      "metadata": {
        "colab": {
          "base_uri": "https://localhost:8080/"
        },
        "id": "m8OSt3SYgsis",
        "outputId": "458065ec-2342-4b21-a916-f6836a02e3e4"
      },
      "execution_count": null,
      "outputs": [
        {
          "output_type": "stream",
          "name": "stdout",
          "text": [
            "{1, 2, 3, 5, 7}\n"
          ]
        }
      ]
    },
    {
      "cell_type": "code",
      "source": [
        "print(kedatangan ^ keberangkatan_log)"
      ],
      "metadata": {
        "colab": {
          "base_uri": "https://localhost:8080/"
        },
        "id": "FtoAjjhYgt_B",
        "outputId": "b3ed9588-798c-460f-de5d-099b06a34788"
      },
      "execution_count": null,
      "outputs": [
        {
          "output_type": "stream",
          "name": "stdout",
          "text": [
            "{34, 4, 6, 8, 9, 10, 12, 16}\n"
          ]
        }
      ]
    },
    {
      "cell_type": "code",
      "source": [
        "# dictionaries\n",
        "# key?value Pair\n",
        "\n",
        "Biodata = {'nama': 'mantau', 'hobi': 'keluar', 'umur': 34}\n",
        "print(Biodata)"
      ],
      "metadata": {
        "colab": {
          "base_uri": "https://localhost:8080/"
        },
        "id": "wnTlJY9QgxP_",
        "outputId": "0b257e24-5d6c-422f-b094-58c6e5a76bed"
      },
      "execution_count": null,
      "outputs": [
        {
          "output_type": "stream",
          "name": "stdout",
          "text": [
            "{'nama': 'mantau', 'hobi': 'keluar', 'umur': 34}\n"
          ]
        }
      ]
    },
    {
      "cell_type": "code",
      "source": [
        "type(Biodata)"
      ],
      "metadata": {
        "colab": {
          "base_uri": "https://localhost:8080/"
        },
        "id": "5WBWnP6vh1Uu",
        "outputId": "aa96504d-c19f-4ed5-c7ce-91780318f255"
      },
      "execution_count": null,
      "outputs": [
        {
          "output_type": "execute_result",
          "data": {
            "text/plain": [
              "dict"
            ]
          },
          "metadata": {},
          "execution_count": 70
        }
      ]
    },
    {
      "cell_type": "code",
      "source": [
        "Biodata.values()"
      ],
      "metadata": {
        "colab": {
          "base_uri": "https://localhost:8080/"
        },
        "id": "5jo5xWJliX2q",
        "outputId": "c4262785-6484-47f3-b926-c8e33d8bb879"
      },
      "execution_count": null,
      "outputs": [
        {
          "output_type": "execute_result",
          "data": {
            "text/plain": [
              "dict_values(['mantau', 'keluar', 34])"
            ]
          },
          "metadata": {},
          "execution_count": 76
        }
      ]
    },
    {
      "cell_type": "code",
      "source": [
        "Biodata.keys()"
      ],
      "metadata": {
        "colab": {
          "base_uri": "https://localhost:8080/"
        },
        "id": "s2ej6GEHik4u",
        "outputId": "615d2888-819a-4280-bbb2-d98e17760347"
      },
      "execution_count": null,
      "outputs": [
        {
          "output_type": "execute_result",
          "data": {
            "text/plain": [
              "dict_keys(['nama', 'hobi', 'umur'])"
            ]
          },
          "metadata": {},
          "execution_count": 77
        }
      ]
    },
    {
      "cell_type": "code",
      "source": [
        "Biodata.items()"
      ],
      "metadata": {
        "colab": {
          "base_uri": "https://localhost:8080/"
        },
        "id": "jUEguocbjT72",
        "outputId": "0c1144ae-bfb2-4bed-84aa-9a1a68110017"
      },
      "execution_count": null,
      "outputs": [
        {
          "output_type": "execute_result",
          "data": {
            "text/plain": [
              "dict_items([('nama', 'mantau'), ('hobi', 'keluar'), ('umur', 34)])"
            ]
          },
          "metadata": {},
          "execution_count": 78
        }
      ]
    },
    {
      "cell_type": "code",
      "source": [
        "Biodata['nama']"
      ],
      "metadata": {
        "colab": {
          "base_uri": "https://localhost:8080/",
          "height": 36
        },
        "id": "w-Gi5Ks7jYBC",
        "outputId": "945fa20a-5039-4f3e-ba7d-b91a0526b36f"
      },
      "execution_count": null,
      "outputs": [
        {
          "output_type": "execute_result",
          "data": {
            "text/plain": [
              "'mantau'"
            ],
            "application/vnd.google.colaboratory.intrinsic+json": {
              "type": "string"
            }
          },
          "metadata": {},
          "execution_count": 79
        }
      ]
    },
    {
      "cell_type": "code",
      "source": [
        "Biodata['nama'] = 'janggar'\n",
        "print(Biodata)"
      ],
      "metadata": {
        "colab": {
          "base_uri": "https://localhost:8080/"
        },
        "id": "Ns-NnAi_jidN",
        "outputId": "d574b243-b303-41f2-ca93-66a935b70fda"
      },
      "execution_count": null,
      "outputs": [
        {
          "output_type": "stream",
          "name": "stdout",
          "text": [
            "{'nama': 'janggar', 'hobi': 'keluar', 'umur': 34}\n"
          ]
        }
      ]
    },
    {
      "cell_type": "code",
      "source": [
        "Biodata.update({'nama': 'Praboro', 'Gelar': 45})\n",
        "print(Biodata)"
      ],
      "metadata": {
        "colab": {
          "base_uri": "https://localhost:8080/"
        },
        "id": "JNRK0O9TjoD1",
        "outputId": "c427c501-b161-4ce7-aac2-f9695006a0ca"
      },
      "execution_count": null,
      "outputs": [
        {
          "output_type": "stream",
          "name": "stdout",
          "text": [
            "{'nama': 'Praboro', 'hobi': 'keluar', 'umur': 34, 'Gelar': 45}\n"
          ]
        }
      ]
    },
    {
      "cell_type": "code",
      "source": [
        "del Biodata['hobi']\n",
        "print(Biodata)"
      ],
      "metadata": {
        "colab": {
          "base_uri": "https://localhost:8080/"
        },
        "id": "66ERSCFajnCA",
        "outputId": "aee7c04a-a896-4e2e-d807-836844ae5259"
      },
      "execution_count": null,
      "outputs": [
        {
          "output_type": "stream",
          "name": "stdout",
          "text": [
            "{'nama': 'Praboro', 'umur': 34, 'Gelar': 45}\n"
          ]
        }
      ]
    },
    {
      "cell_type": "code",
      "source": [
        "#Comparison\n",
        "\n",
        "10 == 10"
      ],
      "metadata": {
        "colab": {
          "base_uri": "https://localhost:8080/"
        },
        "id": "x_pcWYV2kMyS",
        "outputId": "83384ae3-5e93-4254-a506-369d7febad00"
      },
      "execution_count": null,
      "outputs": [
        {
          "output_type": "execute_result",
          "data": {
            "text/plain": [
              "True"
            ]
          },
          "metadata": {},
          "execution_count": 91
        }
      ]
    },
    {
      "cell_type": "code",
      "source": [
        "43 != 345"
      ],
      "metadata": {
        "colab": {
          "base_uri": "https://localhost:8080/"
        },
        "id": "pKOXUBnokw_l",
        "outputId": "4f45519f-8754-4d1c-ec7d-93a40f63339b"
      },
      "execution_count": null,
      "outputs": [
        {
          "output_type": "execute_result",
          "data": {
            "text/plain": [
              "True"
            ]
          },
          "metadata": {},
          "execution_count": 92
        }
      ]
    },
    {
      "cell_type": "code",
      "source": [
        "'makanan' == 'makanan'"
      ],
      "metadata": {
        "colab": {
          "base_uri": "https://localhost:8080/"
        },
        "id": "Sn6CzqACk468",
        "outputId": "d79168d4-d297-4cce-ff23-dd6cb6a1549f"
      },
      "execution_count": null,
      "outputs": [
        {
          "output_type": "execute_result",
          "data": {
            "text/plain": [
              "True"
            ]
          },
          "metadata": {},
          "execution_count": 93
        }
      ]
    },
    {
      "cell_type": "code",
      "source": [
        "x = 'jajan'\n",
        "y = 'oklah'\n",
        "\n",
        "x != y"
      ],
      "metadata": {
        "colab": {
          "base_uri": "https://localhost:8080/"
        },
        "id": "PMiqJdVhk-nk",
        "outputId": "2321dabf-f787-4d98-b23e-b9800a3b8516"
      },
      "execution_count": null,
      "outputs": [
        {
          "output_type": "execute_result",
          "data": {
            "text/plain": [
              "True"
            ]
          },
          "metadata": {},
          "execution_count": 94
        }
      ]
    },
    {
      "cell_type": "code",
      "source": [
        "#Logical Operator\n",
        "\n",
        "(23<30) and (23>98)"
      ],
      "metadata": {
        "colab": {
          "base_uri": "https://localhost:8080/"
        },
        "id": "bvA_HhIvlEek",
        "outputId": "58d68fb8-40f0-4bb9-9f4b-a6522943aa83"
      },
      "execution_count": null,
      "outputs": [
        {
          "output_type": "execute_result",
          "data": {
            "text/plain": [
              "False"
            ]
          },
          "metadata": {},
          "execution_count": 96
        }
      ]
    },
    {
      "cell_type": "code",
      "source": [
        "(23<30) or (23>98)"
      ],
      "metadata": {
        "colab": {
          "base_uri": "https://localhost:8080/"
        },
        "id": "ODztFpwZlQcB",
        "outputId": "eb12916b-a7ed-4214-8c7b-c670fa4e2fc5"
      },
      "execution_count": null,
      "outputs": [
        {
          "output_type": "execute_result",
          "data": {
            "text/plain": [
              "True"
            ]
          },
          "metadata": {},
          "execution_count": 98
        }
      ]
    },
    {
      "cell_type": "code",
      "source": [
        "('makanan' < 'akzzzzzzakakak')"
      ],
      "metadata": {
        "colab": {
          "base_uri": "https://localhost:8080/"
        },
        "id": "Y1Li_9-_lUDm",
        "outputId": "2dce1a33-9c05-4fe4-c408-e60fd7875b2b"
      },
      "execution_count": null,
      "outputs": [
        {
          "output_type": "execute_result",
          "data": {
            "text/plain": [
              "False"
            ]
          },
          "metadata": {},
          "execution_count": 101
        }
      ]
    },
    {
      "cell_type": "code",
      "source": [
        "#membership Operation\n",
        "\n",
        "makan = 'enak itu makan apa aja'\n",
        "'enak' in makan"
      ],
      "metadata": {
        "colab": {
          "base_uri": "https://localhost:8080/"
        },
        "id": "Oa-pBXYYlex9",
        "outputId": "22219bf7-a4d5-4eff-cc7e-dd65d958f2bf"
      },
      "execution_count": null,
      "outputs": [
        {
          "output_type": "execute_result",
          "data": {
            "text/plain": [
              "True"
            ]
          },
          "metadata": {},
          "execution_count": 102
        }
      ]
    },
    {
      "cell_type": "code",
      "source": [
        "persamaan = [4,6,2,5,8]\n",
        "X = 5\n",
        "X in persamaan"
      ],
      "metadata": {
        "colab": {
          "base_uri": "https://localhost:8080/"
        },
        "id": "0A9U73apl5dE",
        "outputId": "87d8ab64-8f62-404b-bd60-00b3854c7a03"
      },
      "execution_count": null,
      "outputs": [
        {
          "output_type": "execute_result",
          "data": {
            "text/plain": [
              "True"
            ]
          },
          "metadata": {},
          "execution_count": 104
        }
      ]
    },
    {
      "cell_type": "code",
      "source": [
        "#IF - elif - else statement\n",
        "\n",
        "if 23>90:\n",
        "      print('wokelah')\n",
        "else: print('not ok')"
      ],
      "metadata": {
        "colab": {
          "base_uri": "https://localhost:8080/"
        },
        "id": "Ydpq5FRYmFIg",
        "outputId": "1dcfa73b-8340-437f-8504-5c962b815c59"
      },
      "execution_count": null,
      "outputs": [
        {
          "output_type": "stream",
          "name": "stdout",
          "text": [
            "not ok\n"
          ]
        }
      ]
    },
    {
      "cell_type": "code",
      "source": [
        "if 23>90:\n",
        "      print('wokelah')\n",
        "elif 23>50:\n",
        "      print('elif 1 work')\n",
        "else: print('not ok')"
      ],
      "metadata": {
        "colab": {
          "base_uri": "https://localhost:8080/"
        },
        "id": "0tF7-QjCm-C1",
        "outputId": "d683f938-49ec-47ed-c380-5118d38070c4"
      },
      "execution_count": null,
      "outputs": [
        {
          "output_type": "stream",
          "name": "stdout",
          "text": [
            "not ok\n"
          ]
        }
      ]
    },
    {
      "cell_type": "code",
      "source": [
        "if 23>90:\n",
        "      print('wokelah')\n",
        "elif 23>50:\n",
        "      print('elif 1 work')\n",
        "elif 23>50:\n",
        "      print('elif 2 work')\n",
        "elif 23>20:\n",
        "      print('elif 3 work')\n",
        "elif 23>10:\n",
        "      print('elif 4 work')\n",
        "else: print('not ok')"
      ],
      "metadata": {
        "colab": {
          "base_uri": "https://localhost:8080/"
        },
        "id": "Vw2DGodYnVBV",
        "outputId": "dab280d3-62b6-4c6f-c98a-99a9b2194b4b"
      },
      "execution_count": null,
      "outputs": [
        {
          "output_type": "stream",
          "name": "stdout",
          "text": [
            "elif 3 work\n"
          ]
        }
      ]
    },
    {
      "cell_type": "code",
      "source": [
        "if 23>90 or 3>1:\n",
        "      print('wokelah')\n",
        "      if 34<50:\n",
        "        print('berul')\n",
        "elif 23>50:\n",
        "      print('elif 1 work')\n",
        "elif 23>50:\n",
        "      print('elif 2 work')\n",
        "elif 23>20:\n",
        "      print('elif 3 work')\n",
        "elif 23>10:\n",
        "      print('elif 4 work')\n",
        "else: print('not ok')"
      ],
      "metadata": {
        "colab": {
          "base_uri": "https://localhost:8080/"
        },
        "id": "YRYY0Q7kngMA",
        "outputId": "58a970ed-693a-4832-9c67-fa58c72433c5"
      },
      "execution_count": null,
      "outputs": [
        {
          "output_type": "stream",
          "name": "stdout",
          "text": [
            "wokelah\n",
            "berul\n"
          ]
        }
      ]
    },
    {
      "cell_type": "code",
      "source": [
        "#LOOPPSSS.....\n",
        "\n",
        "nomor = [3,5,1,34,6,7,]"
      ],
      "metadata": {
        "id": "H8jPD5gMn1ya"
      },
      "execution_count": null,
      "outputs": []
    },
    {
      "cell_type": "code",
      "source": [
        "for angka in nomor:\n",
        "  print(angka)"
      ],
      "metadata": {
        "colab": {
          "base_uri": "https://localhost:8080/"
        },
        "id": "2otwqLFip27P",
        "outputId": "059d9039-e4f8-4be3-e9bd-4c494a5f3c97"
      },
      "execution_count": null,
      "outputs": [
        {
          "output_type": "stream",
          "name": "stdout",
          "text": [
            "3\n",
            "5\n",
            "1\n",
            "34\n",
            "6\n",
            "7\n"
          ]
        }
      ]
    },
    {
      "cell_type": "code",
      "source": [
        "for angka in nomor:\n",
        "  print('woke')"
      ],
      "metadata": {
        "colab": {
          "base_uri": "https://localhost:8080/"
        },
        "id": "xO8rLYmmp8_b",
        "outputId": "cfc733cb-34b7-475a-88d7-9606697cd228"
      },
      "execution_count": null,
      "outputs": [
        {
          "output_type": "stream",
          "name": "stdout",
          "text": [
            "woke\n",
            "woke\n",
            "woke\n",
            "woke\n",
            "woke\n",
            "woke\n"
          ]
        }
      ]
    },
    {
      "cell_type": "code",
      "source": [
        "for angka in nomor:\n",
        "  print(angka+angka*angka)"
      ],
      "metadata": {
        "colab": {
          "base_uri": "https://localhost:8080/"
        },
        "id": "NCILpZl5qE8t",
        "outputId": "5babfc62-6134-4375-b682-3b959392f267"
      },
      "execution_count": null,
      "outputs": [
        {
          "output_type": "stream",
          "name": "stdout",
          "text": [
            "12\n",
            "30\n",
            "2\n",
            "1190\n",
            "42\n",
            "56\n"
          ]
        }
      ]
    },
    {
      "cell_type": "code",
      "source": [
        "print(Biodata)"
      ],
      "metadata": {
        "colab": {
          "base_uri": "https://localhost:8080/"
        },
        "id": "1ztalgMbqk5n",
        "outputId": "004f6d03-1e0a-4366-c87c-33797dd8e164"
      },
      "execution_count": null,
      "outputs": [
        {
          "output_type": "stream",
          "name": "stdout",
          "text": [
            "{'nama': 'Praboro', 'umur': 34, 'Gelar': 45}\n"
          ]
        }
      ]
    },
    {
      "cell_type": "code",
      "source": [
        "for nama in Biodata.values():\n",
        "  print(nama)"
      ],
      "metadata": {
        "colab": {
          "base_uri": "https://localhost:8080/"
        },
        "id": "7LsUTMQGqxtS",
        "outputId": "78f5b796-56e3-4f83-a0c6-c1aecedb7f87"
      },
      "execution_count": null,
      "outputs": [
        {
          "output_type": "stream",
          "name": "stdout",
          "text": [
            "Praboro\n",
            "34\n",
            "45\n"
          ]
        }
      ]
    },
    {
      "cell_type": "code",
      "source": [
        "for pertanyaan, keterangan in Biodata.items():\n",
        "  print(pertanyaan, '->' ,keterangan)"
      ],
      "metadata": {
        "colab": {
          "base_uri": "https://localhost:8080/"
        },
        "id": "sxUbRAzIq9or",
        "outputId": "0aff15e0-eaf3-440d-98af-d9e422168a88"
      },
      "execution_count": null,
      "outputs": [
        {
          "output_type": "stream",
          "name": "stdout",
          "text": [
            "nama -> Praboro\n",
            "umur -> 34\n",
            "Gelar -> 45\n"
          ]
        }
      ]
    },
    {
      "cell_type": "code",
      "source": [
        "print(kedatangan)\n"
      ],
      "metadata": {
        "colab": {
          "base_uri": "https://localhost:8080/"
        },
        "id": "kz8JIRXPrHBj",
        "outputId": "e9394469-306d-4a42-c524-63bdaac52fa3"
      },
      "execution_count": null,
      "outputs": [
        {
          "output_type": "stream",
          "name": "stdout",
          "text": [
            "{1, 2, 3, 34, 5, 7, 10, 12, 16}\n"
          ]
        }
      ]
    },
    {
      "cell_type": "code",
      "source": [
        "print(keberangkatan_log)"
      ],
      "metadata": {
        "colab": {
          "base_uri": "https://localhost:8080/"
        },
        "id": "ZK2f17s5rjCW",
        "outputId": "326641b4-b4f6-4778-f2ba-bff5c26f4c50"
      },
      "execution_count": null,
      "outputs": [
        {
          "output_type": "stream",
          "name": "stdout",
          "text": [
            "{1, 2, 3, 4, 5, 6, 7, 8, 9}\n"
          ]
        }
      ]
    },
    {
      "cell_type": "code",
      "source": [
        "for satu in kedatangan:\n",
        "  for dua in keberangkatan_log:\n",
        "    print(satu * dua)"
      ],
      "metadata": {
        "colab": {
          "base_uri": "https://localhost:8080/"
        },
        "id": "IHUX1F2lrlnZ",
        "outputId": "4d15a9ef-f7ff-48e6-8f78-b5f0c9f01ab1"
      },
      "execution_count": null,
      "outputs": [
        {
          "output_type": "stream",
          "name": "stdout",
          "text": [
            "1\n",
            "2\n",
            "3\n",
            "4\n",
            "5\n",
            "6\n",
            "7\n",
            "8\n",
            "9\n",
            "2\n",
            "4\n",
            "6\n",
            "8\n",
            "10\n",
            "12\n",
            "14\n",
            "16\n",
            "18\n",
            "3\n",
            "6\n",
            "9\n",
            "12\n",
            "15\n",
            "18\n",
            "21\n",
            "24\n",
            "27\n",
            "34\n",
            "68\n",
            "102\n",
            "136\n",
            "170\n",
            "204\n",
            "238\n",
            "272\n",
            "306\n",
            "5\n",
            "10\n",
            "15\n",
            "20\n",
            "25\n",
            "30\n",
            "35\n",
            "40\n",
            "45\n",
            "7\n",
            "14\n",
            "21\n",
            "28\n",
            "35\n",
            "42\n",
            "49\n",
            "56\n",
            "63\n",
            "10\n",
            "20\n",
            "30\n",
            "40\n",
            "50\n",
            "60\n",
            "70\n",
            "80\n",
            "90\n",
            "12\n",
            "24\n",
            "36\n",
            "48\n",
            "60\n",
            "72\n",
            "84\n",
            "96\n",
            "108\n",
            "16\n",
            "32\n",
            "48\n",
            "64\n",
            "80\n",
            "96\n",
            "112\n",
            "128\n",
            "144\n"
          ]
        }
      ]
    },
    {
      "cell_type": "code",
      "source": [
        "#While Loops\n",
        "\n",
        "nomor = 20\n",
        "\n",
        "while nomor < 50:\n",
        "  print(nomor)\n",
        "  nomor = nomor + 10"
      ],
      "metadata": {
        "colab": {
          "base_uri": "https://localhost:8080/"
        },
        "id": "SyYVj8_zr1fW",
        "outputId": "32d216a5-bf8e-4bc1-ae53-810661e110a5"
      },
      "execution_count": null,
      "outputs": [
        {
          "output_type": "stream",
          "name": "stdout",
          "text": [
            "20\n",
            "30\n",
            "40\n"
          ]
        }
      ]
    },
    {
      "cell_type": "code",
      "source": [
        "nomor = 15\n",
        "\n",
        "while nomor < 50:\n",
        "  print(nomor)\n",
        "  if nomor ==20:\n",
        "    break\n",
        "  nomor = nomor+1\n",
        "else:\n",
        "  print('gak bisa, gak <50')"
      ],
      "metadata": {
        "colab": {
          "base_uri": "https://localhost:8080/"
        },
        "id": "QElk6lwqTB9o",
        "outputId": "e8c980fb-3cd7-42e5-c7e7-ed802ce75ee8"
      },
      "execution_count": null,
      "outputs": [
        {
          "output_type": "stream",
          "name": "stdout",
          "text": [
            "15\n",
            "16\n",
            "17\n",
            "18\n",
            "19\n",
            "20\n"
          ]
        }
      ]
    },
    {
      "cell_type": "code",
      "source": [
        "#Function Code\n",
        "\n",
        "def first_fun():\n",
        "  print('ok, bisa')"
      ],
      "metadata": {
        "id": "2TjnIEP3T7Qy"
      },
      "execution_count": null,
      "outputs": []
    },
    {
      "cell_type": "code",
      "source": [
        "first_fun()"
      ],
      "metadata": {
        "colab": {
          "base_uri": "https://localhost:8080/"
        },
        "id": "LhLHkF3pVolP",
        "outputId": "950a5c74-b05b-4978-84ce-516b1c5d4c58"
      },
      "execution_count": null,
      "outputs": [
        {
          "output_type": "stream",
          "name": "stdout",
          "text": [
            "ok, bisa\n"
          ]
        }
      ]
    },
    {
      "cell_type": "code",
      "source": [
        "def pangkat_angka(nomor1):\n",
        "  print(nomor1**2)"
      ],
      "metadata": {
        "id": "T0EY5sb3Vo2X"
      },
      "execution_count": null,
      "outputs": []
    },
    {
      "cell_type": "code",
      "source": [
        "pangkat_angka(7)"
      ],
      "metadata": {
        "colab": {
          "base_uri": "https://localhost:8080/"
        },
        "id": "USFUDGv_Vo5L",
        "outputId": "4cd10328-b581-40c3-c139-30e18041b515"
      },
      "execution_count": null,
      "outputs": [
        {
          "output_type": "stream",
          "name": "stdout",
          "text": [
            "49\n"
          ]
        }
      ]
    },
    {
      "cell_type": "code",
      "source": [
        "def variabel_perkalian(ks,bk):\n",
        "  print(ks ** bk)"
      ],
      "metadata": {
        "id": "Gpl1iTmtVo73"
      },
      "execution_count": null,
      "outputs": []
    },
    {
      "cell_type": "code",
      "source": [
        "variabel_perkalian(10,3)"
      ],
      "metadata": {
        "colab": {
          "base_uri": "https://localhost:8080/"
        },
        "id": "65ydMK2aWIwR",
        "outputId": "04360d33-5891-43f6-d007-4407ba716e65"
      },
      "execution_count": null,
      "outputs": [
        {
          "output_type": "stream",
          "name": "stdout",
          "text": [
            "1000\n"
          ]
        }
      ]
    },
    {
      "cell_type": "code",
      "source": [
        "areak_tuple = (1,31,5,12,4)\n",
        "\n",
        "def nomor_areak(*nomor2):\n",
        "  print(nomor2[2]**nomor2[0])"
      ],
      "metadata": {
        "id": "fqL1of5yWIy4"
      },
      "execution_count": null,
      "outputs": []
    },
    {
      "cell_type": "code",
      "source": [
        "nomor_areak(*areak_tuple)"
      ],
      "metadata": {
        "colab": {
          "base_uri": "https://localhost:8080/"
        },
        "id": "1o7OUdBIWI1a",
        "outputId": "f17ce051-8e2a-465f-ad26-fb854a7bd7e1"
      },
      "execution_count": null,
      "outputs": [
        {
          "output_type": "stream",
          "name": "stdout",
          "text": [
            "5\n"
          ]
        }
      ]
    },
    {
      "cell_type": "code",
      "source": [
        "def variabel_perkalian(ks,bk):\n",
        "  print(ks ** bk)"
      ],
      "metadata": {
        "id": "m_m6gsYpWI4E"
      },
      "execution_count": null,
      "outputs": []
    },
    {
      "cell_type": "code",
      "source": [
        "variabel_perkalian(bk=10,ks=3)"
      ],
      "metadata": {
        "colab": {
          "base_uri": "https://localhost:8080/"
        },
        "id": "ZO3kIo1zWI6Y",
        "outputId": "e82755d5-a585-4b62-a35d-03473c0cd4af"
      },
      "execution_count": null,
      "outputs": [
        {
          "output_type": "stream",
          "name": "stdout",
          "text": [
            "59049\n"
          ]
        }
      ]
    },
    {
      "cell_type": "code",
      "source": [
        "def biodata3(**nomor3):\n",
        "  print('nama: '+ nomor3['namo'] + ' umur: '+ nomor3['umor'] + ' alamat: '+nomor3['rumh'])"
      ],
      "metadata": {
        "id": "HPmWk6FEWI9O"
      },
      "execution_count": null,
      "outputs": []
    },
    {
      "cell_type": "code",
      "source": [
        "biodata3(namo = 'kliew', umor = '39', rumh = 'kidul')"
      ],
      "metadata": {
        "colab": {
          "base_uri": "https://localhost:8080/"
        },
        "id": "CedFjOG4WI_k",
        "outputId": "323b3841-6245-4856-9162-c2407b2ca35d"
      },
      "execution_count": null,
      "outputs": [
        {
          "output_type": "stream",
          "name": "stdout",
          "text": [
            "nama: kliew umur: 39 alamat: kidul\n"
          ]
        }
      ]
    },
    {
      "cell_type": "code",
      "source": [],
      "metadata": {
        "id": "5GDjER8VVo-a"
      },
      "execution_count": null,
      "outputs": []
    },
    {
      "cell_type": "markdown",
      "source": [
        "# HALF TIME"
      ],
      "metadata": {
        "id": "9FkFrqTTdWTL"
      }
    },
    {
      "cell_type": "code",
      "source": [
        "#Convertin tipe text\n",
        "\n",
        "type(nomor)"
      ],
      "metadata": {
        "colab": {
          "base_uri": "https://localhost:8080/"
        },
        "id": "OCih25gfcx5Y",
        "outputId": "23a0faad-fb8b-4cdd-a97c-3274bb8e3855"
      },
      "execution_count": null,
      "outputs": [
        {
          "output_type": "execute_result",
          "data": {
            "text/plain": [
              "int"
            ]
          },
          "metadata": {},
          "execution_count": 101
        }
      ]
    },
    {
      "cell_type": "code",
      "source": [
        "print(nomor)"
      ],
      "metadata": {
        "colab": {
          "base_uri": "https://localhost:8080/"
        },
        "id": "5DmYvoGXfBeD",
        "outputId": "7d63a7aa-946e-4d2e-be45-71c27d52e8cd"
      },
      "execution_count": null,
      "outputs": [
        {
          "output_type": "stream",
          "name": "stdout",
          "text": [
            "20\n"
          ]
        }
      ]
    },
    {
      "cell_type": "code",
      "source": [
        "nomorstr = '32'\n",
        "type(nomorstr)"
      ],
      "metadata": {
        "colab": {
          "base_uri": "https://localhost:8080/"
        },
        "id": "o0uLNCf7fEYd",
        "outputId": "40611c2a-0ada-4c22-b03b-ff0ddf2dfd94"
      },
      "execution_count": null,
      "outputs": [
        {
          "output_type": "execute_result",
          "data": {
            "text/plain": [
              "str"
            ]
          },
          "metadata": {},
          "execution_count": 103
        }
      ]
    },
    {
      "cell_type": "code",
      "source": [
        "nomorstr_conv = int(nomorstr)\n",
        "type(nomorstr_conv)"
      ],
      "metadata": {
        "colab": {
          "base_uri": "https://localhost:8080/"
        },
        "id": "Ag7NXVnBfKyf",
        "outputId": "a990d6ea-cc0c-40c1-8663-1424c85fc159"
      },
      "execution_count": null,
      "outputs": [
        {
          "output_type": "execute_result",
          "data": {
            "text/plain": [
              "int"
            ]
          },
          "metadata": {},
          "execution_count": 104
        }
      ]
    },
    {
      "cell_type": "code",
      "source": [
        "jumlah = nomor + nomorstr_conv\n",
        "print(jumlah)"
      ],
      "metadata": {
        "colab": {
          "base_uri": "https://localhost:8080/"
        },
        "id": "3_R-glpnfW9W",
        "outputId": "c0b1df03-29a1-4507-faed-b68db616cc51"
      },
      "execution_count": null,
      "outputs": [
        {
          "output_type": "stream",
          "name": "stdout",
          "text": [
            "52\n"
          ]
        }
      ]
    },
    {
      "cell_type": "code",
      "source": [
        "list_tipe_nomor = [3,51,53,12,53]\n",
        "type(list_tipe_nomor)"
      ],
      "metadata": {
        "colab": {
          "base_uri": "https://localhost:8080/"
        },
        "id": "3L42qQBlffoA",
        "outputId": "22920efa-2fc9-46cc-c89c-1f04d6946e14"
      },
      "execution_count": null,
      "outputs": [
        {
          "output_type": "execute_result",
          "data": {
            "text/plain": [
              "list"
            ]
          },
          "metadata": {},
          "execution_count": 106
        }
      ]
    },
    {
      "cell_type": "code",
      "source": [
        "type(tuple(list_tipe_nomor))"
      ],
      "metadata": {
        "colab": {
          "base_uri": "https://localhost:8080/"
        },
        "id": "4KDMf0tAf2gb",
        "outputId": "263c5a68-f5b7-471e-c205-b956dc24e4d3"
      },
      "execution_count": null,
      "outputs": [
        {
          "output_type": "execute_result",
          "data": {
            "text/plain": [
              "tuple"
            ]
          },
          "metadata": {},
          "execution_count": 107
        }
      ]
    },
    {
      "cell_type": "code",
      "source": [
        "type(set(list_tipe_nomor))"
      ],
      "metadata": {
        "colab": {
          "base_uri": "https://localhost:8080/"
        },
        "id": "cTFO6V3Tf5Fk",
        "outputId": "798e8fd6-c5c0-495f-c427-f17de80d3397"
      },
      "execution_count": null,
      "outputs": [
        {
          "output_type": "execute_result",
          "data": {
            "text/plain": [
              "set"
            ]
          },
          "metadata": {},
          "execution_count": 108
        }
      ]
    },
    {
      "cell_type": "code",
      "source": [
        "diks_tipe = {'nama ': 'baek ', 'umur ':23, 'rumah ':'dimana aja'}\n",
        "type(diks_tipe)"
      ],
      "metadata": {
        "colab": {
          "base_uri": "https://localhost:8080/"
        },
        "id": "vNpTgRMmf-BE",
        "outputId": "31b7a1c5-ce56-4a79-c823-48c7094dd26e"
      },
      "execution_count": null,
      "outputs": [
        {
          "output_type": "execute_result",
          "data": {
            "text/plain": [
              "dict"
            ]
          },
          "metadata": {},
          "execution_count": 112
        }
      ]
    },
    {
      "cell_type": "code",
      "source": [
        "diks_tipe.items()"
      ],
      "metadata": {
        "colab": {
          "base_uri": "https://localhost:8080/"
        },
        "id": "B7n7C4FugJx8",
        "outputId": "654cfb56-4904-41fe-d2d8-059f5bea30d7"
      },
      "execution_count": null,
      "outputs": [
        {
          "output_type": "execute_result",
          "data": {
            "text/plain": [
              "dict_items([('nama ', 'baek '), ('umur ', 23), ('rumah ', 'dimana aja')])"
            ]
          },
          "metadata": {},
          "execution_count": 113
        }
      ]
    },
    {
      "cell_type": "code",
      "source": [
        "diks_tipe.values()"
      ],
      "metadata": {
        "colab": {
          "base_uri": "https://localhost:8080/"
        },
        "id": "xx0bvMxfgJ0Y",
        "outputId": "7850fe27-e30b-4758-ed59-bd5c79ae01ee"
      },
      "execution_count": null,
      "outputs": [
        {
          "output_type": "execute_result",
          "data": {
            "text/plain": [
              "dict_values(['baek ', 23, 'dimana aja'])"
            ]
          },
          "metadata": {},
          "execution_count": 114
        }
      ]
    },
    {
      "cell_type": "code",
      "source": [
        "diks_tipe.keys()"
      ],
      "metadata": {
        "colab": {
          "base_uri": "https://localhost:8080/"
        },
        "id": "JU7U2xWKgJ29",
        "outputId": "37a8bfae-07d7-4dc9-cb2a-2d3e71a62fff"
      },
      "execution_count": null,
      "outputs": [
        {
          "output_type": "execute_result",
          "data": {
            "text/plain": [
              "dict_keys(['nama ', 'umur ', 'rumah '])"
            ]
          },
          "metadata": {},
          "execution_count": 115
        }
      ]
    },
    {
      "cell_type": "code",
      "source": [
        "type(list(diks_tipe.keys()))"
      ],
      "metadata": {
        "colab": {
          "base_uri": "https://localhost:8080/"
        },
        "id": "MQ-2IBj4gJ5k",
        "outputId": "734886c4-739d-4914-96c8-982cf76b0d99"
      },
      "execution_count": null,
      "outputs": [
        {
          "output_type": "execute_result",
          "data": {
            "text/plain": [
              "list"
            ]
          },
          "metadata": {},
          "execution_count": 117
        }
      ]
    },
    {
      "cell_type": "code",
      "source": [
        "type(list(diks_tipe.values()))"
      ],
      "metadata": {
        "colab": {
          "base_uri": "https://localhost:8080/"
        },
        "id": "4F-_FlEZhP0l",
        "outputId": "0e46f62c-837f-499e-d263-15cf397bd374"
      },
      "execution_count": null,
      "outputs": [
        {
          "output_type": "execute_result",
          "data": {
            "text/plain": [
              "list"
            ]
          },
          "metadata": {},
          "execution_count": 118
        }
      ]
    },
    {
      "cell_type": "code",
      "source": [],
      "metadata": {
        "id": "ZGwlBCPngJ8K"
      },
      "execution_count": null,
      "outputs": []
    }
  ]
}