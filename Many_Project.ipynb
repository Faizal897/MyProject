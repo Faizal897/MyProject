{
  "nbformat": 4,
  "nbformat_minor": 0,
  "metadata": {
    "colab": {
      "provenance": [],
      "authorship_tag": "ABX9TyMYk9ENyuyVEKxDS9f3SxRy",
      "include_colab_link": true
    },
    "kernelspec": {
      "name": "python3",
      "display_name": "Python 3"
    },
    "language_info": {
      "name": "python"
    }
  },
  "cells": [
    {
      "cell_type": "markdown",
      "metadata": {
        "id": "view-in-github",
        "colab_type": "text"
      },
      "source": [
        "<a href=\"https://colab.research.google.com/github/Faizal897/MyProject/blob/main/Many_Project.ipynb\" target=\"_parent\"><img src=\"https://colab.research.google.com/assets/colab-badge.svg\" alt=\"Open In Colab\"/></a>"
      ]
    },
    {
      "cell_type": "markdown",
      "source": [
        "# BMI MODEL"
      ],
      "metadata": {
        "id": "tkWKUmDMGQEO"
      }
    },
    {
      "cell_type": "code",
      "execution_count": null,
      "metadata": {
        "colab": {
          "base_uri": "https://localhost:8080/"
        },
        "id": "FXujmwFg8La6",
        "outputId": "e791e01f-2352-422d-bc29-0a59d4e99bed"
      },
      "outputs": [
        {
          "output_type": "stream",
          "name": "stdout",
          "text": [
            "Masukan Nama Anda: boy\n",
            "Masukan Berat Badan dalam \"kg\": 75\n",
            "Masukan Tinggi badan dalam \"cm\": 178\n",
            "23.671253629592222\n",
            "boy kamu Normal\n"
          ]
        }
      ],
      "source": [
        "Nama   = str(input('Masukan Nama Anda: '))\n",
        "Berat  = int(input('Masukan Berat Badan dalam \"kg\": '))\n",
        "Tinggi = int(input('Masukan Tinggi badan dalam \"cm\": '))\n",
        "BMI    = float(Berat/((Tinggi/100)**2))\n",
        "print(BMI)\n",
        "if BMI>0:\n",
        "  if(BMI<18.5):\n",
        "    print(Nama +' kamu kurang berat badan')\n",
        "  elif (BMI <= 24.9):\n",
        "    print(Nama +' kamu Normal')\n",
        "  elif (BMI <= 34,9):\n",
        "    print(Nama +' kamu kelebihan berat badan')\n",
        "  elif (BMI <= 44,9):\n",
        "    print(Nama +' kamu sangat berat')\n",
        "  elif (BMI > 44,9):\n",
        "    print(Nama +' kamu \"Chonk\"')\n",
        "else: print('ok')"
      ]
    },
    {
      "cell_type": "markdown",
      "source": [
        "# Automatic FIle Sorter"
      ],
      "metadata": {
        "id": "-aD1N_BjGLpK"
      }
    },
    {
      "cell_type": "code",
      "source": [
        "from google.colab import drive\n",
        "\n",
        "Lokasi = '/content/drive/MyDrive/Python Project/'"
      ],
      "metadata": {
        "id": "dGMjAThkEm0v"
      },
      "execution_count": null,
      "outputs": []
    },
    {
      "cell_type": "code",
      "source": [
        "os.listdir(Lokasi)"
      ],
      "metadata": {
        "colab": {
          "base_uri": "https://localhost:8080/"
        },
        "id": "fDwyUaYGUjCX",
        "outputId": "69978729-8311-4768-83de-1f54b8f08454"
      },
      "execution_count": null,
      "outputs": [
        {
          "output_type": "execute_result",
          "data": {
            "text/plain": [
              "['Word File',\n",
              " 'Pdf File',\n",
              " 'PPT File',\n",
              " 'CSV File',\n",
              " 'Foto File',\n",
              " 'Excel File',\n",
              " 'Video File']"
            ]
          },
          "metadata": {},
          "execution_count": 76
        }
      ]
    },
    {
      "cell_type": "code",
      "source": [
        "Nama_File = os.listdir(Lokasi)"
      ],
      "metadata": {
        "id": "vooFkUX-G9oU"
      },
      "execution_count": null,
      "outputs": []
    },
    {
      "cell_type": "code",
      "source": [
        "Nama_Folder = ['Word File', 'Pdf File', 'PPT File', 'CSV File', 'Foto File', 'Excel File','Video File']\n",
        "\n",
        "for berulang in range(0,7):\n",
        "  if not os.path.exists(Lokasi + Nama_Folder[berulang]):\n",
        "    print(Lokasi + Nama_Folder[berulang])\n",
        "    os.makedirs(Lokasi + Nama_Folder[berulang])\n",
        "\n",
        "for file in Nama_File:\n",
        "  if \".docx\" in file and not os.path.exists(Lokasi + \"Word File/\" + file):\n",
        "    shutil.move(Lokasi + file, Lokasi + \"Word File/\" + file)\n",
        "  elif \".pdf\" in file and not os.path.exists(Lokasi + \"Pdf File/\" + file):\n",
        "    shutil.move(Lokasi + file, Lokasi + \"Pdf File/\" + file)\n",
        "  elif \".pptx\" in file and not os.path.exists(Lokasi + \"PPT File/\" + file):\n",
        "    shutil.move(Lokasi + file, Lokasi + \"PPT File/\" + file)\n",
        "  elif \".csv\" in file and not os.path.exists(Lokasi + \"CSV File/\" + file):\n",
        "    shutil.move(Lokasi + file, Lokasi + \"CSV File/\" + file)\n",
        "  elif \".json\" in file and not os.path.exists(Lokasi + \"CSV File/\" + file):\n",
        "    shutil.move(Lokasi + file, Lokasi + \"CSV File/\" + file)\n",
        "  elif \".jpg\" in file and not os.path.exists(Lokasi + \"Foto File/\" + file):\n",
        "    shutil.move(Lokasi + file, Lokasi + \"Foto File/\" + file)\n",
        "  elif \".png\" in file and not os.path.exists(Lokasi + \"Foto File/\" + file):\n",
        "    shutil.move(Lokasi + file, Lokasi + \"Foto File/\" + file)\n",
        "  elif \".xlsx\" in file and not os.path.exists(Lokasi + \"Excel File/\" + file):\n",
        "    shutil.move(Lokasi + file, Lokasi + \"Excel File/\" + file)\n",
        "  elif \".mp4\" in file and not os.path.exists(Lokasi + \"Video File/\" + file):\n",
        "    shutil.move(Lokasi + file, Lokasi + \"Video File/\" + file)\n",
        "  else:\n",
        "    print('file nya tidak ada')"
      ],
      "metadata": {
        "colab": {
          "base_uri": "https://localhost:8080/"
        },
        "id": "7an_bf2PG9tk",
        "outputId": "e030edef-7008-449f-e5c4-4e2365ab4865"
      },
      "execution_count": null,
      "outputs": [
        {
          "output_type": "stream",
          "name": "stdout",
          "text": [
            "/content/drive/MyDrive/Python Project/Video File\n"
          ]
        }
      ]
    },
    {
      "cell_type": "code",
      "source": [],
      "metadata": {
        "id": "XV_-Jx6uG9wR"
      },
      "execution_count": null,
      "outputs": []
    },
    {
      "cell_type": "markdown",
      "source": [
        "# SCRAPPER FROM WEB\n"
      ],
      "metadata": {
        "id": "mLi5bHVkwWtG"
      }
    },
    {
      "cell_type": "code",
      "source": [
        "from bs4 import BeautifulSoup\n",
        "import requests"
      ],
      "metadata": {
        "id": "l8sASnJhwbYu"
      },
      "execution_count": null,
      "outputs": []
    },
    {
      "cell_type": "code",
      "source": [
        "url = 'https://www.scrapethissite.com/pages/forms/'"
      ],
      "metadata": {
        "id": "zYXc4kx8xcSY"
      },
      "execution_count": null,
      "outputs": []
    },
    {
      "cell_type": "code",
      "source": [
        "page = requests.get(url)"
      ],
      "metadata": {
        "id": "_kk6U1_1xcU6"
      },
      "execution_count": null,
      "outputs": []
    },
    {
      "cell_type": "code",
      "source": [
        "soup = BeautifulSoup(page.text, 'html')"
      ],
      "metadata": {
        "id": "mMNv9gsGxcXS"
      },
      "execution_count": null,
      "outputs": []
    },
    {
      "cell_type": "code",
      "source": [
        "print(soup)"
      ],
      "metadata": {
        "id": "n3wL6ekpxcaB"
      },
      "execution_count": null,
      "outputs": []
    },
    {
      "cell_type": "code",
      "source": [],
      "metadata": {
        "id": "iIcATOE0ztLW"
      },
      "execution_count": null,
      "outputs": []
    },
    {
      "cell_type": "markdown",
      "source": [
        "# SCRAPPING FOR WEBSITE"
      ],
      "metadata": {
        "id": "r4CJZephzuAY"
      }
    },
    {
      "cell_type": "markdown",
      "source": [],
      "metadata": {
        "id": "2t67MW0nTBfp"
      }
    },
    {
      "cell_type": "code",
      "source": [
        "from bs4 import BeautifulSoup\n",
        "import requests"
      ],
      "metadata": {
        "id": "Ixov_jIgzzA6"
      },
      "execution_count": null,
      "outputs": []
    },
    {
      "cell_type": "code",
      "source": [
        "url = 'https://www.goal.com/id/berita/daftar-juara-piala-dunia/1wwa8w9diqrqgzspwx68851sb'\n",
        "halaman = requests.get(url)\n",
        "Soup = BeautifulSoup(halaman.text, 'html')"
      ],
      "metadata": {
        "id": "EvwT_Mw1zzI4"
      },
      "execution_count": null,
      "outputs": []
    },
    {
      "cell_type": "code",
      "source": [
        "print(Soup)"
      ],
      "metadata": {
        "id": "0tlDKNq7zzRl"
      },
      "execution_count": null,
      "outputs": []
    },
    {
      "cell_type": "code",
      "source": [
        "Soup.find_all('table')[0]"
      ],
      "metadata": {
        "colab": {
          "base_uri": "https://localhost:8080/"
        },
        "id": "IxLN7I4R-JQP",
        "outputId": "9f11492f-b6e2-4faa-b978-706080c24b73"
      },
      "execution_count": null,
      "outputs": [
        {
          "output_type": "execute_result",
          "data": {
            "text/plain": [
              "<table><tbody style=\"text-align:center\"><tr style=\"text-align:center\"><td valign=\"top\"><strong>TAHUN</strong></td><td valign=\"top\"><strong>JUARA</strong></td><td valign=\"top\"><strong>SKOR</strong></td><td valign=\"top\"><strong>RUNNER-UP</strong></td></tr><tr style=\"text-align:center\"><td bgcolor=\"#E5E4E2\" style=\"text-align:center\" width=\"15%\">1930</td><td bgcolor=\"#E5E4E2\" style=\"text-align:center\" width=\"30%\">Uruguay</td><td bgcolor=\"#E5E4E2\" style=\"text-align:center\" width=\"25%\">4-2</td><td bgcolor=\"#E5E4E2\" width=\"30%\">Argentina</td></tr><tr style=\"text-align:center\"><td valign=\"top\">1934</td><td valign=\"top\">Italia</td><td valign=\"top\">2-1 (aet)</td><td valign=\"top\">Cekoslowakia</td></tr><tr style=\"text-align:center\"><td bgcolor=\"#E5E4E2\" style=\"text-align:center\" width=\"15%\">1938</td><td bgcolor=\"#E5E4E2\" style=\"text-align:center\" width=\"30%\">Italia</td><td bgcolor=\"#E5E4E2\" style=\"text-align:center\" width=\"25%\">4-2</td><td bgcolor=\"#E5E4E2\" width=\"30%\">Hungaria</td></tr><tr style=\"text-align:center\"><td valign=\"top\">1942</td><td valign=\"top\">-</td><td valign=\"top\">Perang Dunia II</td><td>-</td></tr><tr><td bgcolor=\"#E5E4E2\" valign=\"top\">1946</td><td bgcolor=\"#E5E4E2\" valign=\"top\">-</td><td bgcolor=\"#E5E4E2\" valign=\"top\">Perang Dunia II</td><td bgcolor=\"#E5E4E2\">-</td></tr><tr><td valign=\"top\">1950</td><td valign=\"top\">Uruguay</td><td valign=\"top\">2-1</td><td>Brasil</td></tr><tr><td bgcolor=\"#E5E4E2\" valign=\"top\">1954</td><td bgcolor=\"#E5E4E2\" valign=\"top\">Jerman Barat</td><td bgcolor=\"#E5E4E2\" valign=\"top\">3-2</td><td bgcolor=\"#E5E4E2\">Hungaria</td></tr><tr><td valign=\"top\">1958</td><td valign=\"top\">Brasil</td><td valign=\"top\">5-2</td><td>Swedia</td></tr><tr><td bgcolor=\"#E5E4E2\" valign=\"top\">1962</td><td bgcolor=\"#E5E4E2\" valign=\"top\">Brasil</td><td bgcolor=\"#E5E4E2\" valign=\"top\">3-1</td><td bgcolor=\"#E5E4E2\">Cekoslowakia</td></tr><tr><td valign=\"top\">1966</td><td valign=\"top\">Inggris</td><td valign=\"top\">4-2 (aet)</td><td>Jerman Barat</td></tr><tr><td bgcolor=\"#E5E4E2\" valign=\"top\">1970</td><td bgcolor=\"#E5E4E2\" valign=\"top\">Brasil</td><td bgcolor=\"#E5E4E2\" valign=\"top\">4-1</td><td bgcolor=\"#E5E4E2\">Italia</td></tr><tr><td valign=\"top\">1974</td><td valign=\"top\">Jerman Barat</td><td valign=\"top\">2-1</td><td>Belanda</td></tr><tr><td bgcolor=\"#E5E4E2\" valign=\"top\">1978</td><td bgcolor=\"#E5E4E2\" valign=\"top\">Argentina</td><td bgcolor=\"#E5E4E2\" valign=\"top\">3-1 (aet)</td><td bgcolor=\"#E5E4E2\">Belanda</td></tr><tr><td valign=\"top\">1982</td><td valign=\"top\">Italia</td><td valign=\"top\">3-1</td><td>Jerman Barat</td></tr><tr><td bgcolor=\"#E5E4E2\" valign=\"top\">1986</td><td bgcolor=\"#E5E4E2\" valign=\"top\">Argentina</td><td bgcolor=\"#E5E4E2\" valign=\"top\">3-2</td><td bgcolor=\"#E5E4E2\">Jerman Barat</td></tr><tr><td valign=\"top\">1990</td><td valign=\"top\">Jerman Barat</td><td valign=\"top\">1-0</td><td>Argentina</td></tr><tr><td bgcolor=\"#E5E4E2\" valign=\"top\">1994</td><td bgcolor=\"#E5E4E2\" valign=\"top\">Brasil</td><td bgcolor=\"#E5E4E2\" valign=\"top\">0-0 (Pen: 3-2)</td><td bgcolor=\"#E5E4E2\">Italia</td></tr><tr><td valign=\"top\">1998</td><td valign=\"top\">Prancis</td><td valign=\"top\">3-0</td><td>Brasil</td></tr><tr><td bgcolor=\"#E5E4E2\" valign=\"top\">2002</td><td bgcolor=\"#E5E4E2\" valign=\"top\">Brasil</td><td bgcolor=\"#E5E4E2\" valign=\"top\">2-0</td><td bgcolor=\"#E5E4E2\">Jerman</td></tr><tr><td valign=\"top\">2006</td><td valign=\"top\">Italia</td><td valign=\"top\">1-1 (Pen: 5-3)</td><td>Prancis</td></tr><tr><td bgcolor=\"#E5E4E2\" valign=\"top\">2010</td><td bgcolor=\"#E5E4E2\" valign=\"top\">Spanyol</td><td bgcolor=\"#E5E4E2\" valign=\"top\">1-0</td><td bgcolor=\"#E5E4E2\">Belanda</td></tr><tr><td valign=\"top\">2014</td><td valign=\"top\">Jerman</td><td valign=\"top\">1-0 (aet)</td><td>Argentina</td></tr><tr><td bgcolor=\"#E5E4E2\" valign=\"top\">2018</td><td bgcolor=\"#E5E4E2\" valign=\"top\">Prancis</td><td bgcolor=\"#E5E4E2\" valign=\"top\">4-2</td><td bgcolor=\"#E5E4E2\">Kroasia</td></tr><tr><td>2022</td><td>Argentina</td><td>3-3 (PEN: 4-2)</td><td>Prancis</td></tr></tbody></table>"
            ]
          },
          "metadata": {},
          "execution_count": 111
        }
      ]
    },
    {
      "cell_type": "code",
      "source": [
        "<div class=\"table-container-scroll\">\n",
        "<caption>"
      ],
      "metadata": {
        "id": "O4b27oWAzzUB"
      },
      "execution_count": null,
      "outputs": []
    },
    {
      "cell_type": "code",
      "source": [
        "Tabel = Soup.find_all('table')[0]"
      ],
      "metadata": {
        "id": "iUeH2Ou9zzWn"
      },
      "execution_count": null,
      "outputs": []
    },
    {
      "cell_type": "code",
      "source": [
        "print(Tabel)"
      ],
      "metadata": {
        "colab": {
          "base_uri": "https://localhost:8080/"
        },
        "id": "GeLfNe0kzzZO",
        "outputId": "e9cd5a63-9f20-46b7-bd48-59188a67bb98"
      },
      "execution_count": null,
      "outputs": [
        {
          "output_type": "stream",
          "name": "stdout",
          "text": [
            "<table><tbody style=\"text-align:center\"><tr style=\"text-align:center\"><td valign=\"top\"><strong>TAHUN</strong></td><td valign=\"top\"><strong>JUARA</strong></td><td valign=\"top\"><strong>SKOR</strong></td><td valign=\"top\"><strong>RUNNER-UP</strong></td></tr><tr style=\"text-align:center\"><td bgcolor=\"#E5E4E2\" style=\"text-align:center\" width=\"15%\">1930</td><td bgcolor=\"#E5E4E2\" style=\"text-align:center\" width=\"30%\">Uruguay</td><td bgcolor=\"#E5E4E2\" style=\"text-align:center\" width=\"25%\">4-2</td><td bgcolor=\"#E5E4E2\" width=\"30%\">Argentina</td></tr><tr style=\"text-align:center\"><td valign=\"top\">1934</td><td valign=\"top\">Italia</td><td valign=\"top\">2-1 (aet)</td><td valign=\"top\">Cekoslowakia</td></tr><tr style=\"text-align:center\"><td bgcolor=\"#E5E4E2\" style=\"text-align:center\" width=\"15%\">1938</td><td bgcolor=\"#E5E4E2\" style=\"text-align:center\" width=\"30%\">Italia</td><td bgcolor=\"#E5E4E2\" style=\"text-align:center\" width=\"25%\">4-2</td><td bgcolor=\"#E5E4E2\" width=\"30%\">Hungaria</td></tr><tr style=\"text-align:center\"><td valign=\"top\">1942</td><td valign=\"top\">-</td><td valign=\"top\">Perang Dunia II</td><td>-</td></tr><tr><td bgcolor=\"#E5E4E2\" valign=\"top\">1946</td><td bgcolor=\"#E5E4E2\" valign=\"top\">-</td><td bgcolor=\"#E5E4E2\" valign=\"top\">Perang Dunia II</td><td bgcolor=\"#E5E4E2\">-</td></tr><tr><td valign=\"top\">1950</td><td valign=\"top\">Uruguay</td><td valign=\"top\">2-1</td><td>Brasil</td></tr><tr><td bgcolor=\"#E5E4E2\" valign=\"top\">1954</td><td bgcolor=\"#E5E4E2\" valign=\"top\">Jerman Barat</td><td bgcolor=\"#E5E4E2\" valign=\"top\">3-2</td><td bgcolor=\"#E5E4E2\">Hungaria</td></tr><tr><td valign=\"top\">1958</td><td valign=\"top\">Brasil</td><td valign=\"top\">5-2</td><td>Swedia</td></tr><tr><td bgcolor=\"#E5E4E2\" valign=\"top\">1962</td><td bgcolor=\"#E5E4E2\" valign=\"top\">Brasil</td><td bgcolor=\"#E5E4E2\" valign=\"top\">3-1</td><td bgcolor=\"#E5E4E2\">Cekoslowakia</td></tr><tr><td valign=\"top\">1966</td><td valign=\"top\">Inggris</td><td valign=\"top\">4-2 (aet)</td><td>Jerman Barat</td></tr><tr><td bgcolor=\"#E5E4E2\" valign=\"top\">1970</td><td bgcolor=\"#E5E4E2\" valign=\"top\">Brasil</td><td bgcolor=\"#E5E4E2\" valign=\"top\">4-1</td><td bgcolor=\"#E5E4E2\">Italia</td></tr><tr><td valign=\"top\">1974</td><td valign=\"top\">Jerman Barat</td><td valign=\"top\">2-1</td><td>Belanda</td></tr><tr><td bgcolor=\"#E5E4E2\" valign=\"top\">1978</td><td bgcolor=\"#E5E4E2\" valign=\"top\">Argentina</td><td bgcolor=\"#E5E4E2\" valign=\"top\">3-1 (aet)</td><td bgcolor=\"#E5E4E2\">Belanda</td></tr><tr><td valign=\"top\">1982</td><td valign=\"top\">Italia</td><td valign=\"top\">3-1</td><td>Jerman Barat</td></tr><tr><td bgcolor=\"#E5E4E2\" valign=\"top\">1986</td><td bgcolor=\"#E5E4E2\" valign=\"top\">Argentina</td><td bgcolor=\"#E5E4E2\" valign=\"top\">3-2</td><td bgcolor=\"#E5E4E2\">Jerman Barat</td></tr><tr><td valign=\"top\">1990</td><td valign=\"top\">Jerman Barat</td><td valign=\"top\">1-0</td><td>Argentina</td></tr><tr><td bgcolor=\"#E5E4E2\" valign=\"top\">1994</td><td bgcolor=\"#E5E4E2\" valign=\"top\">Brasil</td><td bgcolor=\"#E5E4E2\" valign=\"top\">0-0 (Pen: 3-2)</td><td bgcolor=\"#E5E4E2\">Italia</td></tr><tr><td valign=\"top\">1998</td><td valign=\"top\">Prancis</td><td valign=\"top\">3-0</td><td>Brasil</td></tr><tr><td bgcolor=\"#E5E4E2\" valign=\"top\">2002</td><td bgcolor=\"#E5E4E2\" valign=\"top\">Brasil</td><td bgcolor=\"#E5E4E2\" valign=\"top\">2-0</td><td bgcolor=\"#E5E4E2\">Jerman</td></tr><tr><td valign=\"top\">2006</td><td valign=\"top\">Italia</td><td valign=\"top\">1-1 (Pen: 5-3)</td><td>Prancis</td></tr><tr><td bgcolor=\"#E5E4E2\" valign=\"top\">2010</td><td bgcolor=\"#E5E4E2\" valign=\"top\">Spanyol</td><td bgcolor=\"#E5E4E2\" valign=\"top\">1-0</td><td bgcolor=\"#E5E4E2\">Belanda</td></tr><tr><td valign=\"top\">2014</td><td valign=\"top\">Jerman</td><td valign=\"top\">1-0 (aet)</td><td>Argentina</td></tr><tr><td bgcolor=\"#E5E4E2\" valign=\"top\">2018</td><td bgcolor=\"#E5E4E2\" valign=\"top\">Prancis</td><td bgcolor=\"#E5E4E2\" valign=\"top\">4-2</td><td bgcolor=\"#E5E4E2\">Kroasia</td></tr><tr><td>2022</td><td>Argentina</td><td>3-3 (PEN: 4-2)</td><td>Prancis</td></tr></tbody></table>\n"
          ]
        }
      ]
    },
    {
      "cell_type": "code",
      "source": [
        "Data_Kolom = Tabel.find_all('tr')"
      ],
      "metadata": {
        "id": "3EnYHrOqzzbx"
      },
      "execution_count": null,
      "outputs": []
    },
    {
      "cell_type": "code",
      "source": [
        "Data_Kolom"
      ],
      "metadata": {
        "colab": {
          "base_uri": "https://localhost:8080/"
        },
        "id": "q54hGKdsAt08",
        "outputId": "e2eb0ef0-30e0-4d68-b5f1-93d4f9b37764"
      },
      "execution_count": null,
      "outputs": [
        {
          "output_type": "execute_result",
          "data": {
            "text/plain": [
              "[<tr style=\"text-align:center\"><td valign=\"top\"><strong>TAHUN</strong></td><td valign=\"top\"><strong>JUARA</strong></td><td valign=\"top\"><strong>SKOR</strong></td><td valign=\"top\"><strong>RUNNER-UP</strong></td></tr>,\n",
              " <tr style=\"text-align:center\"><td bgcolor=\"#E5E4E2\" style=\"text-align:center\" width=\"15%\">1930</td><td bgcolor=\"#E5E4E2\" style=\"text-align:center\" width=\"30%\">Uruguay</td><td bgcolor=\"#E5E4E2\" style=\"text-align:center\" width=\"25%\">4-2</td><td bgcolor=\"#E5E4E2\" width=\"30%\">Argentina</td></tr>,\n",
              " <tr style=\"text-align:center\"><td valign=\"top\">1934</td><td valign=\"top\">Italia</td><td valign=\"top\">2-1 (aet)</td><td valign=\"top\">Cekoslowakia</td></tr>,\n",
              " <tr style=\"text-align:center\"><td bgcolor=\"#E5E4E2\" style=\"text-align:center\" width=\"15%\">1938</td><td bgcolor=\"#E5E4E2\" style=\"text-align:center\" width=\"30%\">Italia</td><td bgcolor=\"#E5E4E2\" style=\"text-align:center\" width=\"25%\">4-2</td><td bgcolor=\"#E5E4E2\" width=\"30%\">Hungaria</td></tr>,\n",
              " <tr style=\"text-align:center\"><td valign=\"top\">1942</td><td valign=\"top\">-</td><td valign=\"top\">Perang Dunia II</td><td>-</td></tr>,\n",
              " <tr><td bgcolor=\"#E5E4E2\" valign=\"top\">1946</td><td bgcolor=\"#E5E4E2\" valign=\"top\">-</td><td bgcolor=\"#E5E4E2\" valign=\"top\">Perang Dunia II</td><td bgcolor=\"#E5E4E2\">-</td></tr>,\n",
              " <tr><td valign=\"top\">1950</td><td valign=\"top\">Uruguay</td><td valign=\"top\">2-1</td><td>Brasil</td></tr>,\n",
              " <tr><td bgcolor=\"#E5E4E2\" valign=\"top\">1954</td><td bgcolor=\"#E5E4E2\" valign=\"top\">Jerman Barat</td><td bgcolor=\"#E5E4E2\" valign=\"top\">3-2</td><td bgcolor=\"#E5E4E2\">Hungaria</td></tr>,\n",
              " <tr><td valign=\"top\">1958</td><td valign=\"top\">Brasil</td><td valign=\"top\">5-2</td><td>Swedia</td></tr>,\n",
              " <tr><td bgcolor=\"#E5E4E2\" valign=\"top\">1962</td><td bgcolor=\"#E5E4E2\" valign=\"top\">Brasil</td><td bgcolor=\"#E5E4E2\" valign=\"top\">3-1</td><td bgcolor=\"#E5E4E2\">Cekoslowakia</td></tr>,\n",
              " <tr><td valign=\"top\">1966</td><td valign=\"top\">Inggris</td><td valign=\"top\">4-2 (aet)</td><td>Jerman Barat</td></tr>,\n",
              " <tr><td bgcolor=\"#E5E4E2\" valign=\"top\">1970</td><td bgcolor=\"#E5E4E2\" valign=\"top\">Brasil</td><td bgcolor=\"#E5E4E2\" valign=\"top\">4-1</td><td bgcolor=\"#E5E4E2\">Italia</td></tr>,\n",
              " <tr><td valign=\"top\">1974</td><td valign=\"top\">Jerman Barat</td><td valign=\"top\">2-1</td><td>Belanda</td></tr>,\n",
              " <tr><td bgcolor=\"#E5E4E2\" valign=\"top\">1978</td><td bgcolor=\"#E5E4E2\" valign=\"top\">Argentina</td><td bgcolor=\"#E5E4E2\" valign=\"top\">3-1 (aet)</td><td bgcolor=\"#E5E4E2\">Belanda</td></tr>,\n",
              " <tr><td valign=\"top\">1982</td><td valign=\"top\">Italia</td><td valign=\"top\">3-1</td><td>Jerman Barat</td></tr>,\n",
              " <tr><td bgcolor=\"#E5E4E2\" valign=\"top\">1986</td><td bgcolor=\"#E5E4E2\" valign=\"top\">Argentina</td><td bgcolor=\"#E5E4E2\" valign=\"top\">3-2</td><td bgcolor=\"#E5E4E2\">Jerman Barat</td></tr>,\n",
              " <tr><td valign=\"top\">1990</td><td valign=\"top\">Jerman Barat</td><td valign=\"top\">1-0</td><td>Argentina</td></tr>,\n",
              " <tr><td bgcolor=\"#E5E4E2\" valign=\"top\">1994</td><td bgcolor=\"#E5E4E2\" valign=\"top\">Brasil</td><td bgcolor=\"#E5E4E2\" valign=\"top\">0-0 (Pen: 3-2)</td><td bgcolor=\"#E5E4E2\">Italia</td></tr>,\n",
              " <tr><td valign=\"top\">1998</td><td valign=\"top\">Prancis</td><td valign=\"top\">3-0</td><td>Brasil</td></tr>,\n",
              " <tr><td bgcolor=\"#E5E4E2\" valign=\"top\">2002</td><td bgcolor=\"#E5E4E2\" valign=\"top\">Brasil</td><td bgcolor=\"#E5E4E2\" valign=\"top\">2-0</td><td bgcolor=\"#E5E4E2\">Jerman</td></tr>,\n",
              " <tr><td valign=\"top\">2006</td><td valign=\"top\">Italia</td><td valign=\"top\">1-1 (Pen: 5-3)</td><td>Prancis</td></tr>,\n",
              " <tr><td bgcolor=\"#E5E4E2\" valign=\"top\">2010</td><td bgcolor=\"#E5E4E2\" valign=\"top\">Spanyol</td><td bgcolor=\"#E5E4E2\" valign=\"top\">1-0</td><td bgcolor=\"#E5E4E2\">Belanda</td></tr>,\n",
              " <tr><td valign=\"top\">2014</td><td valign=\"top\">Jerman</td><td valign=\"top\">1-0 (aet)</td><td>Argentina</td></tr>,\n",
              " <tr><td bgcolor=\"#E5E4E2\" valign=\"top\">2018</td><td bgcolor=\"#E5E4E2\" valign=\"top\">Prancis</td><td bgcolor=\"#E5E4E2\" valign=\"top\">4-2</td><td bgcolor=\"#E5E4E2\">Kroasia</td></tr>,\n",
              " <tr><td>2022</td><td>Argentina</td><td>3-3 (PEN: 4-2)</td><td>Prancis</td></tr>]"
            ]
          },
          "metadata": {},
          "execution_count": 122
        }
      ]
    },
    {
      "cell_type": "code",
      "source": [
        "import pandas as pd\n"
      ],
      "metadata": {
        "id": "JAGXm3ZcAt3w"
      },
      "execution_count": null,
      "outputs": []
    },
    {
      "cell_type": "code",
      "source": [
        "Data_Row = []"
      ],
      "metadata": {
        "id": "WRo-e8v0Gslo"
      },
      "execution_count": null,
      "outputs": []
    },
    {
      "cell_type": "code",
      "source": [
        "for Baris in Data_Kolom:\n",
        "  Data_Baris = Baris.find_all('td')\n",
        "  Data_Tabel = [data.text.strip() for data in Data_Baris]\n",
        "  Data_Row.append(Data_Tabel)"
      ],
      "metadata": {
        "id": "x94KNOTBB1zz"
      },
      "execution_count": null,
      "outputs": []
    },
    {
      "cell_type": "code",
      "source": [
        "df = pd.DataFrame(Data_Row[1:], columns=Data_Row[0])"
      ],
      "metadata": {
        "id": "Nr7-ZXSTDrI6"
      },
      "execution_count": null,
      "outputs": []
    },
    {
      "cell_type": "code",
      "source": [
        "df"
      ],
      "metadata": {
        "colab": {
          "base_uri": "https://localhost:8080/",
          "height": 802
        },
        "id": "t2hyYo3qAt8i",
        "outputId": "ec2b268b-2026-4670-9623-442dd7c21c34"
      },
      "execution_count": null,
      "outputs": [
        {
          "output_type": "execute_result",
          "data": {
            "text/plain": [
              "   TAHUN         JUARA             SKOR     RUNNER-UP\n",
              "0   1930       Uruguay              4-2     Argentina\n",
              "1   1934        Italia        2-1 (aet)  Cekoslowakia\n",
              "2   1938        Italia              4-2      Hungaria\n",
              "3   1942             -  Perang Dunia II             -\n",
              "4   1946             -  Perang Dunia II             -\n",
              "5   1950       Uruguay              2-1        Brasil\n",
              "6   1954  Jerman Barat              3-2      Hungaria\n",
              "7   1958        Brasil              5-2        Swedia\n",
              "8   1962        Brasil              3-1  Cekoslowakia\n",
              "9   1966       Inggris        4-2 (aet)  Jerman Barat\n",
              "10  1970        Brasil              4-1        Italia\n",
              "11  1974  Jerman Barat              2-1       Belanda\n",
              "12  1978     Argentina        3-1 (aet)       Belanda\n",
              "13  1982        Italia              3-1  Jerman Barat\n",
              "14  1986     Argentina              3-2  Jerman Barat\n",
              "15  1990  Jerman Barat              1-0     Argentina\n",
              "16  1994        Brasil   0-0 (Pen: 3-2)        Italia\n",
              "17  1998       Prancis              3-0        Brasil\n",
              "18  2002        Brasil              2-0        Jerman\n",
              "19  2006        Italia   1-1 (Pen: 5-3)       Prancis\n",
              "20  2010       Spanyol              1-0       Belanda\n",
              "21  2014        Jerman        1-0 (aet)     Argentina\n",
              "22  2018       Prancis              4-2       Kroasia\n",
              "23  2022     Argentina   3-3 (PEN: 4-2)       Prancis"
            ],
            "text/html": [
              "\n",
              "  <div id=\"df-791040f8-8bc1-46ee-8e59-2d562fc2a549\" class=\"colab-df-container\">\n",
              "    <div>\n",
              "<style scoped>\n",
              "    .dataframe tbody tr th:only-of-type {\n",
              "        vertical-align: middle;\n",
              "    }\n",
              "\n",
              "    .dataframe tbody tr th {\n",
              "        vertical-align: top;\n",
              "    }\n",
              "\n",
              "    .dataframe thead th {\n",
              "        text-align: right;\n",
              "    }\n",
              "</style>\n",
              "<table border=\"1\" class=\"dataframe\">\n",
              "  <thead>\n",
              "    <tr style=\"text-align: right;\">\n",
              "      <th></th>\n",
              "      <th>TAHUN</th>\n",
              "      <th>JUARA</th>\n",
              "      <th>SKOR</th>\n",
              "      <th>RUNNER-UP</th>\n",
              "    </tr>\n",
              "  </thead>\n",
              "  <tbody>\n",
              "    <tr>\n",
              "      <th>0</th>\n",
              "      <td>1930</td>\n",
              "      <td>Uruguay</td>\n",
              "      <td>4-2</td>\n",
              "      <td>Argentina</td>\n",
              "    </tr>\n",
              "    <tr>\n",
              "      <th>1</th>\n",
              "      <td>1934</td>\n",
              "      <td>Italia</td>\n",
              "      <td>2-1 (aet)</td>\n",
              "      <td>Cekoslowakia</td>\n",
              "    </tr>\n",
              "    <tr>\n",
              "      <th>2</th>\n",
              "      <td>1938</td>\n",
              "      <td>Italia</td>\n",
              "      <td>4-2</td>\n",
              "      <td>Hungaria</td>\n",
              "    </tr>\n",
              "    <tr>\n",
              "      <th>3</th>\n",
              "      <td>1942</td>\n",
              "      <td>-</td>\n",
              "      <td>Perang Dunia II</td>\n",
              "      <td>-</td>\n",
              "    </tr>\n",
              "    <tr>\n",
              "      <th>4</th>\n",
              "      <td>1946</td>\n",
              "      <td>-</td>\n",
              "      <td>Perang Dunia II</td>\n",
              "      <td>-</td>\n",
              "    </tr>\n",
              "    <tr>\n",
              "      <th>5</th>\n",
              "      <td>1950</td>\n",
              "      <td>Uruguay</td>\n",
              "      <td>2-1</td>\n",
              "      <td>Brasil</td>\n",
              "    </tr>\n",
              "    <tr>\n",
              "      <th>6</th>\n",
              "      <td>1954</td>\n",
              "      <td>Jerman Barat</td>\n",
              "      <td>3-2</td>\n",
              "      <td>Hungaria</td>\n",
              "    </tr>\n",
              "    <tr>\n",
              "      <th>7</th>\n",
              "      <td>1958</td>\n",
              "      <td>Brasil</td>\n",
              "      <td>5-2</td>\n",
              "      <td>Swedia</td>\n",
              "    </tr>\n",
              "    <tr>\n",
              "      <th>8</th>\n",
              "      <td>1962</td>\n",
              "      <td>Brasil</td>\n",
              "      <td>3-1</td>\n",
              "      <td>Cekoslowakia</td>\n",
              "    </tr>\n",
              "    <tr>\n",
              "      <th>9</th>\n",
              "      <td>1966</td>\n",
              "      <td>Inggris</td>\n",
              "      <td>4-2 (aet)</td>\n",
              "      <td>Jerman Barat</td>\n",
              "    </tr>\n",
              "    <tr>\n",
              "      <th>10</th>\n",
              "      <td>1970</td>\n",
              "      <td>Brasil</td>\n",
              "      <td>4-1</td>\n",
              "      <td>Italia</td>\n",
              "    </tr>\n",
              "    <tr>\n",
              "      <th>11</th>\n",
              "      <td>1974</td>\n",
              "      <td>Jerman Barat</td>\n",
              "      <td>2-1</td>\n",
              "      <td>Belanda</td>\n",
              "    </tr>\n",
              "    <tr>\n",
              "      <th>12</th>\n",
              "      <td>1978</td>\n",
              "      <td>Argentina</td>\n",
              "      <td>3-1 (aet)</td>\n",
              "      <td>Belanda</td>\n",
              "    </tr>\n",
              "    <tr>\n",
              "      <th>13</th>\n",
              "      <td>1982</td>\n",
              "      <td>Italia</td>\n",
              "      <td>3-1</td>\n",
              "      <td>Jerman Barat</td>\n",
              "    </tr>\n",
              "    <tr>\n",
              "      <th>14</th>\n",
              "      <td>1986</td>\n",
              "      <td>Argentina</td>\n",
              "      <td>3-2</td>\n",
              "      <td>Jerman Barat</td>\n",
              "    </tr>\n",
              "    <tr>\n",
              "      <th>15</th>\n",
              "      <td>1990</td>\n",
              "      <td>Jerman Barat</td>\n",
              "      <td>1-0</td>\n",
              "      <td>Argentina</td>\n",
              "    </tr>\n",
              "    <tr>\n",
              "      <th>16</th>\n",
              "      <td>1994</td>\n",
              "      <td>Brasil</td>\n",
              "      <td>0-0 (Pen: 3-2)</td>\n",
              "      <td>Italia</td>\n",
              "    </tr>\n",
              "    <tr>\n",
              "      <th>17</th>\n",
              "      <td>1998</td>\n",
              "      <td>Prancis</td>\n",
              "      <td>3-0</td>\n",
              "      <td>Brasil</td>\n",
              "    </tr>\n",
              "    <tr>\n",
              "      <th>18</th>\n",
              "      <td>2002</td>\n",
              "      <td>Brasil</td>\n",
              "      <td>2-0</td>\n",
              "      <td>Jerman</td>\n",
              "    </tr>\n",
              "    <tr>\n",
              "      <th>19</th>\n",
              "      <td>2006</td>\n",
              "      <td>Italia</td>\n",
              "      <td>1-1 (Pen: 5-3)</td>\n",
              "      <td>Prancis</td>\n",
              "    </tr>\n",
              "    <tr>\n",
              "      <th>20</th>\n",
              "      <td>2010</td>\n",
              "      <td>Spanyol</td>\n",
              "      <td>1-0</td>\n",
              "      <td>Belanda</td>\n",
              "    </tr>\n",
              "    <tr>\n",
              "      <th>21</th>\n",
              "      <td>2014</td>\n",
              "      <td>Jerman</td>\n",
              "      <td>1-0 (aet)</td>\n",
              "      <td>Argentina</td>\n",
              "    </tr>\n",
              "    <tr>\n",
              "      <th>22</th>\n",
              "      <td>2018</td>\n",
              "      <td>Prancis</td>\n",
              "      <td>4-2</td>\n",
              "      <td>Kroasia</td>\n",
              "    </tr>\n",
              "    <tr>\n",
              "      <th>23</th>\n",
              "      <td>2022</td>\n",
              "      <td>Argentina</td>\n",
              "      <td>3-3 (PEN: 4-2)</td>\n",
              "      <td>Prancis</td>\n",
              "    </tr>\n",
              "  </tbody>\n",
              "</table>\n",
              "</div>\n",
              "    <div class=\"colab-df-buttons\">\n",
              "\n",
              "  <div class=\"colab-df-container\">\n",
              "    <button class=\"colab-df-convert\" onclick=\"convertToInteractive('df-791040f8-8bc1-46ee-8e59-2d562fc2a549')\"\n",
              "            title=\"Convert this dataframe to an interactive table.\"\n",
              "            style=\"display:none;\">\n",
              "\n",
              "  <svg xmlns=\"http://www.w3.org/2000/svg\" height=\"24px\" viewBox=\"0 -960 960 960\">\n",
              "    <path d=\"M120-120v-720h720v720H120Zm60-500h600v-160H180v160Zm220 220h160v-160H400v160Zm0 220h160v-160H400v160ZM180-400h160v-160H180v160Zm440 0h160v-160H620v160ZM180-180h160v-160H180v160Zm440 0h160v-160H620v160Z\"/>\n",
              "  </svg>\n",
              "    </button>\n",
              "\n",
              "  <style>\n",
              "    .colab-df-container {\n",
              "      display:flex;\n",
              "      gap: 12px;\n",
              "    }\n",
              "\n",
              "    .colab-df-convert {\n",
              "      background-color: #E8F0FE;\n",
              "      border: none;\n",
              "      border-radius: 50%;\n",
              "      cursor: pointer;\n",
              "      display: none;\n",
              "      fill: #1967D2;\n",
              "      height: 32px;\n",
              "      padding: 0 0 0 0;\n",
              "      width: 32px;\n",
              "    }\n",
              "\n",
              "    .colab-df-convert:hover {\n",
              "      background-color: #E2EBFA;\n",
              "      box-shadow: 0px 1px 2px rgba(60, 64, 67, 0.3), 0px 1px 3px 1px rgba(60, 64, 67, 0.15);\n",
              "      fill: #174EA6;\n",
              "    }\n",
              "\n",
              "    .colab-df-buttons div {\n",
              "      margin-bottom: 4px;\n",
              "    }\n",
              "\n",
              "    [theme=dark] .colab-df-convert {\n",
              "      background-color: #3B4455;\n",
              "      fill: #D2E3FC;\n",
              "    }\n",
              "\n",
              "    [theme=dark] .colab-df-convert:hover {\n",
              "      background-color: #434B5C;\n",
              "      box-shadow: 0px 1px 3px 1px rgba(0, 0, 0, 0.15);\n",
              "      filter: drop-shadow(0px 1px 2px rgba(0, 0, 0, 0.3));\n",
              "      fill: #FFFFFF;\n",
              "    }\n",
              "  </style>\n",
              "\n",
              "    <script>\n",
              "      const buttonEl =\n",
              "        document.querySelector('#df-791040f8-8bc1-46ee-8e59-2d562fc2a549 button.colab-df-convert');\n",
              "      buttonEl.style.display =\n",
              "        google.colab.kernel.accessAllowed ? 'block' : 'none';\n",
              "\n",
              "      async function convertToInteractive(key) {\n",
              "        const element = document.querySelector('#df-791040f8-8bc1-46ee-8e59-2d562fc2a549');\n",
              "        const dataTable =\n",
              "          await google.colab.kernel.invokeFunction('convertToInteractive',\n",
              "                                                    [key], {});\n",
              "        if (!dataTable) return;\n",
              "\n",
              "        const docLinkHtml = 'Like what you see? Visit the ' +\n",
              "          '<a target=\"_blank\" href=https://colab.research.google.com/notebooks/data_table.ipynb>data table notebook</a>'\n",
              "          + ' to learn more about interactive tables.';\n",
              "        element.innerHTML = '';\n",
              "        dataTable['output_type'] = 'display_data';\n",
              "        await google.colab.output.renderOutput(dataTable, element);\n",
              "        const docLink = document.createElement('div');\n",
              "        docLink.innerHTML = docLinkHtml;\n",
              "        element.appendChild(docLink);\n",
              "      }\n",
              "    </script>\n",
              "  </div>\n",
              "\n",
              "\n",
              "<div id=\"df-850227d2-19ab-4207-be1f-5d699fdc4080\">\n",
              "  <button class=\"colab-df-quickchart\" onclick=\"quickchart('df-850227d2-19ab-4207-be1f-5d699fdc4080')\"\n",
              "            title=\"Suggest charts\"\n",
              "            style=\"display:none;\">\n",
              "\n",
              "<svg xmlns=\"http://www.w3.org/2000/svg\" height=\"24px\"viewBox=\"0 0 24 24\"\n",
              "     width=\"24px\">\n",
              "    <g>\n",
              "        <path d=\"M19 3H5c-1.1 0-2 .9-2 2v14c0 1.1.9 2 2 2h14c1.1 0 2-.9 2-2V5c0-1.1-.9-2-2-2zM9 17H7v-7h2v7zm4 0h-2V7h2v10zm4 0h-2v-4h2v4z\"/>\n",
              "    </g>\n",
              "</svg>\n",
              "  </button>\n",
              "\n",
              "<style>\n",
              "  .colab-df-quickchart {\n",
              "      --bg-color: #E8F0FE;\n",
              "      --fill-color: #1967D2;\n",
              "      --hover-bg-color: #E2EBFA;\n",
              "      --hover-fill-color: #174EA6;\n",
              "      --disabled-fill-color: #AAA;\n",
              "      --disabled-bg-color: #DDD;\n",
              "  }\n",
              "\n",
              "  [theme=dark] .colab-df-quickchart {\n",
              "      --bg-color: #3B4455;\n",
              "      --fill-color: #D2E3FC;\n",
              "      --hover-bg-color: #434B5C;\n",
              "      --hover-fill-color: #FFFFFF;\n",
              "      --disabled-bg-color: #3B4455;\n",
              "      --disabled-fill-color: #666;\n",
              "  }\n",
              "\n",
              "  .colab-df-quickchart {\n",
              "    background-color: var(--bg-color);\n",
              "    border: none;\n",
              "    border-radius: 50%;\n",
              "    cursor: pointer;\n",
              "    display: none;\n",
              "    fill: var(--fill-color);\n",
              "    height: 32px;\n",
              "    padding: 0;\n",
              "    width: 32px;\n",
              "  }\n",
              "\n",
              "  .colab-df-quickchart:hover {\n",
              "    background-color: var(--hover-bg-color);\n",
              "    box-shadow: 0 1px 2px rgba(60, 64, 67, 0.3), 0 1px 3px 1px rgba(60, 64, 67, 0.15);\n",
              "    fill: var(--button-hover-fill-color);\n",
              "  }\n",
              "\n",
              "  .colab-df-quickchart-complete:disabled,\n",
              "  .colab-df-quickchart-complete:disabled:hover {\n",
              "    background-color: var(--disabled-bg-color);\n",
              "    fill: var(--disabled-fill-color);\n",
              "    box-shadow: none;\n",
              "  }\n",
              "\n",
              "  .colab-df-spinner {\n",
              "    border: 2px solid var(--fill-color);\n",
              "    border-color: transparent;\n",
              "    border-bottom-color: var(--fill-color);\n",
              "    animation:\n",
              "      spin 1s steps(1) infinite;\n",
              "  }\n",
              "\n",
              "  @keyframes spin {\n",
              "    0% {\n",
              "      border-color: transparent;\n",
              "      border-bottom-color: var(--fill-color);\n",
              "      border-left-color: var(--fill-color);\n",
              "    }\n",
              "    20% {\n",
              "      border-color: transparent;\n",
              "      border-left-color: var(--fill-color);\n",
              "      border-top-color: var(--fill-color);\n",
              "    }\n",
              "    30% {\n",
              "      border-color: transparent;\n",
              "      border-left-color: var(--fill-color);\n",
              "      border-top-color: var(--fill-color);\n",
              "      border-right-color: var(--fill-color);\n",
              "    }\n",
              "    40% {\n",
              "      border-color: transparent;\n",
              "      border-right-color: var(--fill-color);\n",
              "      border-top-color: var(--fill-color);\n",
              "    }\n",
              "    60% {\n",
              "      border-color: transparent;\n",
              "      border-right-color: var(--fill-color);\n",
              "    }\n",
              "    80% {\n",
              "      border-color: transparent;\n",
              "      border-right-color: var(--fill-color);\n",
              "      border-bottom-color: var(--fill-color);\n",
              "    }\n",
              "    90% {\n",
              "      border-color: transparent;\n",
              "      border-bottom-color: var(--fill-color);\n",
              "    }\n",
              "  }\n",
              "</style>\n",
              "\n",
              "  <script>\n",
              "    async function quickchart(key) {\n",
              "      const quickchartButtonEl =\n",
              "        document.querySelector('#' + key + ' button');\n",
              "      quickchartButtonEl.disabled = true;  // To prevent multiple clicks.\n",
              "      quickchartButtonEl.classList.add('colab-df-spinner');\n",
              "      try {\n",
              "        const charts = await google.colab.kernel.invokeFunction(\n",
              "            'suggestCharts', [key], {});\n",
              "      } catch (error) {\n",
              "        console.error('Error during call to suggestCharts:', error);\n",
              "      }\n",
              "      quickchartButtonEl.classList.remove('colab-df-spinner');\n",
              "      quickchartButtonEl.classList.add('colab-df-quickchart-complete');\n",
              "    }\n",
              "    (() => {\n",
              "      let quickchartButtonEl =\n",
              "        document.querySelector('#df-850227d2-19ab-4207-be1f-5d699fdc4080 button');\n",
              "      quickchartButtonEl.style.display =\n",
              "        google.colab.kernel.accessAllowed ? 'block' : 'none';\n",
              "    })();\n",
              "  </script>\n",
              "</div>\n",
              "    </div>\n",
              "  </div>\n"
            ],
            "application/vnd.google.colaboratory.intrinsic+json": {
              "type": "dataframe",
              "variable_name": "df",
              "summary": "{\n  \"name\": \"df\",\n  \"rows\": 24,\n  \"fields\": [\n    {\n      \"column\": \"TAHUN\",\n      \"properties\": {\n        \"dtype\": \"object\",\n        \"num_unique_values\": 24,\n        \"samples\": [\n          \"1962\",\n          \"1994\",\n          \"1930\"\n        ],\n        \"semantic_type\": \"\",\n        \"description\": \"\"\n      }\n    },\n    {\n      \"column\": \"JUARA\",\n      \"properties\": {\n        \"dtype\": \"category\",\n        \"num_unique_values\": 10,\n        \"samples\": [\n          \"Spanyol\",\n          \"Italia\",\n          \"Inggris\"\n        ],\n        \"semantic_type\": \"\",\n        \"description\": \"\"\n      }\n    },\n    {\n      \"column\": \"SKOR\",\n      \"properties\": {\n        \"dtype\": \"string\",\n        \"num_unique_values\": 17,\n        \"samples\": [\n          \"4-2\",\n          \"2-1 (aet)\",\n          \"5-2\"\n        ],\n        \"semantic_type\": \"\",\n        \"description\": \"\"\n      }\n    },\n    {\n      \"column\": \"RUNNER-UP\",\n      \"properties\": {\n        \"dtype\": \"string\",\n        \"num_unique_values\": 12,\n        \"samples\": [\n          \"Prancis\",\n          \"Jerman\",\n          \"Argentina\"\n        ],\n        \"semantic_type\": \"\",\n        \"description\": \"\"\n      }\n    }\n  ]\n}"
            }
          },
          "metadata": {},
          "execution_count": 147
        }
      ]
    },
    {
      "cell_type": "code",
      "source": [
        "df.to_csv('/content/drive/MyDrive/Python Project/Juara Piala Dunia')"
      ],
      "metadata": {
        "id": "28gG9qb4At-9"
      },
      "execution_count": null,
      "outputs": []
    },
    {
      "cell_type": "code",
      "source": [],
      "metadata": {
        "id": "soM2SOGHDSQh"
      },
      "execution_count": null,
      "outputs": []
    },
    {
      "cell_type": "code",
      "source": [],
      "metadata": {
        "id": "TOFFCbDHAuBe"
      },
      "execution_count": null,
      "outputs": []
    }
  ]
}